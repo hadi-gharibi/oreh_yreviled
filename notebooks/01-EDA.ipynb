{
 "cells": [
  {
   "cell_type": "code",
   "execution_count": 21,
   "metadata": {},
   "outputs": [],
   "source": [
    "import pandas as pd\n",
    "import seaborn as sns\n",
    "import matplotlib.pyplot as plt"
   ]
  },
  {
   "cell_type": "markdown",
   "metadata": {},
   "source": [
    "## Summery\n",
    "1. Reading files\n",
    "2. Sanity check\n",
    "3. EDA"
   ]
  },
  {
   "cell_type": "code",
   "execution_count": 2,
   "metadata": {},
   "outputs": [
    {
     "name": "stdout",
     "output_type": "stream",
     "text": [
      "/opt/ml/notebooks\n"
     ]
    }
   ],
   "source": [
    "!pwd"
   ]
  },
  {
   "cell_type": "code",
   "execution_count": 3,
   "metadata": {},
   "outputs": [],
   "source": [
    "orders = pd.read_csv('../data/machine_learning_challenge_order_data.csv', parse_dates={'date':['order_date']})\n",
    "labels = pd.read_csv('../data/machine_learning_challenge_labeled_data.csv')"
   ]
  },
  {
   "cell_type": "code",
   "execution_count": 4,
   "metadata": {},
   "outputs": [
    {
     "data": {
      "text/plain": [
       "0    189948\n",
       "1     55507\n",
       "Name: is_returning_customer, dtype: int64"
      ]
     },
     "execution_count": 4,
     "metadata": {},
     "output_type": "execute_result"
    }
   ],
   "source": [
    "#lables are imbalance\n",
    "labels.is_returning_customer.value_counts()"
   ]
  },
  {
   "cell_type": "code",
   "execution_count": 5,
   "metadata": {},
   "outputs": [
    {
     "data": {
      "text/html": [
       "<div>\n",
       "<style scoped>\n",
       "    .dataframe tbody tr th:only-of-type {\n",
       "        vertical-align: middle;\n",
       "    }\n",
       "\n",
       "    .dataframe tbody tr th {\n",
       "        vertical-align: top;\n",
       "    }\n",
       "\n",
       "    .dataframe thead th {\n",
       "        text-align: right;\n",
       "    }\n",
       "</style>\n",
       "<table border=\"1\" class=\"dataframe\">\n",
       "  <thead>\n",
       "    <tr style=\"text-align: right;\">\n",
       "      <th></th>\n",
       "      <th>date</th>\n",
       "      <th>customer_id</th>\n",
       "      <th>order_hour</th>\n",
       "      <th>customer_order_rank</th>\n",
       "      <th>is_failed</th>\n",
       "      <th>voucher_amount</th>\n",
       "      <th>delivery_fee</th>\n",
       "      <th>amount_paid</th>\n",
       "      <th>restaurant_id</th>\n",
       "      <th>city_id</th>\n",
       "      <th>payment_id</th>\n",
       "      <th>platform_id</th>\n",
       "      <th>transmission_id</th>\n",
       "    </tr>\n",
       "  </thead>\n",
       "  <tbody>\n",
       "    <tr>\n",
       "      <th>0</th>\n",
       "      <td>2015-06-20</td>\n",
       "      <td>000097eabfd9</td>\n",
       "      <td>19</td>\n",
       "      <td>1.0</td>\n",
       "      <td>0</td>\n",
       "      <td>0.0</td>\n",
       "      <td>0.000</td>\n",
       "      <td>11.46960</td>\n",
       "      <td>5803498</td>\n",
       "      <td>20326</td>\n",
       "      <td>1779</td>\n",
       "      <td>30231</td>\n",
       "      <td>4356</td>\n",
       "    </tr>\n",
       "    <tr>\n",
       "      <th>1</th>\n",
       "      <td>2016-01-29</td>\n",
       "      <td>0000e2c6d9be</td>\n",
       "      <td>20</td>\n",
       "      <td>1.0</td>\n",
       "      <td>0</td>\n",
       "      <td>0.0</td>\n",
       "      <td>0.000</td>\n",
       "      <td>9.55800</td>\n",
       "      <td>239303498</td>\n",
       "      <td>76547</td>\n",
       "      <td>1619</td>\n",
       "      <td>30359</td>\n",
       "      <td>4356</td>\n",
       "    </tr>\n",
       "    <tr>\n",
       "      <th>2</th>\n",
       "      <td>2017-02-26</td>\n",
       "      <td>000133bb597f</td>\n",
       "      <td>19</td>\n",
       "      <td>1.0</td>\n",
       "      <td>0</td>\n",
       "      <td>0.0</td>\n",
       "      <td>0.493</td>\n",
       "      <td>5.93658</td>\n",
       "      <td>206463498</td>\n",
       "      <td>33833</td>\n",
       "      <td>1619</td>\n",
       "      <td>30359</td>\n",
       "      <td>4324</td>\n",
       "    </tr>\n",
       "    <tr>\n",
       "      <th>3</th>\n",
       "      <td>2017-02-05</td>\n",
       "      <td>00018269939b</td>\n",
       "      <td>17</td>\n",
       "      <td>1.0</td>\n",
       "      <td>0</td>\n",
       "      <td>0.0</td>\n",
       "      <td>0.493</td>\n",
       "      <td>9.82350</td>\n",
       "      <td>36613498</td>\n",
       "      <td>99315</td>\n",
       "      <td>1619</td>\n",
       "      <td>30359</td>\n",
       "      <td>4356</td>\n",
       "    </tr>\n",
       "    <tr>\n",
       "      <th>4</th>\n",
       "      <td>2015-08-04</td>\n",
       "      <td>0001a00468a6</td>\n",
       "      <td>19</td>\n",
       "      <td>1.0</td>\n",
       "      <td>0</td>\n",
       "      <td>0.0</td>\n",
       "      <td>0.493</td>\n",
       "      <td>5.15070</td>\n",
       "      <td>225853498</td>\n",
       "      <td>16456</td>\n",
       "      <td>1619</td>\n",
       "      <td>29463</td>\n",
       "      <td>4356</td>\n",
       "    </tr>\n",
       "  </tbody>\n",
       "</table>\n",
       "</div>"
      ],
      "text/plain": [
       "        date   customer_id  order_hour  customer_order_rank  is_failed  \\\n",
       "0 2015-06-20  000097eabfd9          19                  1.0          0   \n",
       "1 2016-01-29  0000e2c6d9be          20                  1.0          0   \n",
       "2 2017-02-26  000133bb597f          19                  1.0          0   \n",
       "3 2017-02-05  00018269939b          17                  1.0          0   \n",
       "4 2015-08-04  0001a00468a6          19                  1.0          0   \n",
       "\n",
       "   voucher_amount  delivery_fee  amount_paid  restaurant_id  city_id  \\\n",
       "0             0.0         0.000     11.46960        5803498    20326   \n",
       "1             0.0         0.000      9.55800      239303498    76547   \n",
       "2             0.0         0.493      5.93658      206463498    33833   \n",
       "3             0.0         0.493      9.82350       36613498    99315   \n",
       "4             0.0         0.493      5.15070      225853498    16456   \n",
       "\n",
       "   payment_id  platform_id  transmission_id  \n",
       "0        1779        30231             4356  \n",
       "1        1619        30359             4356  \n",
       "2        1619        30359             4324  \n",
       "3        1619        30359             4356  \n",
       "4        1619        29463             4356  "
      ]
     },
     "execution_count": 5,
     "metadata": {},
     "output_type": "execute_result"
    }
   ],
   "source": [
    "orders.head()"
   ]
  },
  {
   "cell_type": "code",
   "execution_count": 6,
   "metadata": {},
   "outputs": [
    {
     "data": {
      "text/plain": [
       "date                   datetime64[ns]\n",
       "customer_id                    object\n",
       "order_hour                      int64\n",
       "customer_order_rank           float64\n",
       "is_failed                       int64\n",
       "voucher_amount                float64\n",
       "delivery_fee                  float64\n",
       "amount_paid                   float64\n",
       "restaurant_id                   int64\n",
       "city_id                         int64\n",
       "payment_id                      int64\n",
       "platform_id                     int64\n",
       "transmission_id                 int64\n",
       "dtype: object"
      ]
     },
     "execution_count": 6,
     "metadata": {},
     "output_type": "execute_result"
    }
   ],
   "source": [
    "orders.dtypes"
   ]
  },
  {
   "cell_type": "code",
   "execution_count": 7,
   "metadata": {},
   "outputs": [
    {
     "data": {
      "text/html": [
       "<div>\n",
       "<style scoped>\n",
       "    .dataframe tbody tr th:only-of-type {\n",
       "        vertical-align: middle;\n",
       "    }\n",
       "\n",
       "    .dataframe tbody tr th {\n",
       "        vertical-align: top;\n",
       "    }\n",
       "\n",
       "    .dataframe thead th {\n",
       "        text-align: right;\n",
       "    }\n",
       "</style>\n",
       "<table border=\"1\" class=\"dataframe\">\n",
       "  <thead>\n",
       "    <tr style=\"text-align: right;\">\n",
       "      <th></th>\n",
       "      <th>order_hour</th>\n",
       "      <th>customer_order_rank</th>\n",
       "      <th>is_failed</th>\n",
       "      <th>voucher_amount</th>\n",
       "      <th>delivery_fee</th>\n",
       "      <th>amount_paid</th>\n",
       "      <th>restaurant_id</th>\n",
       "      <th>city_id</th>\n",
       "      <th>payment_id</th>\n",
       "      <th>platform_id</th>\n",
       "      <th>transmission_id</th>\n",
       "    </tr>\n",
       "  </thead>\n",
       "  <tbody>\n",
       "    <tr>\n",
       "      <th>count</th>\n",
       "      <td>786600.000000</td>\n",
       "      <td>761833.000000</td>\n",
       "      <td>786600.000000</td>\n",
       "      <td>786600.000000</td>\n",
       "      <td>786600.00000</td>\n",
       "      <td>786600.000000</td>\n",
       "      <td>7.866000e+05</td>\n",
       "      <td>786600.000000</td>\n",
       "      <td>786600.000000</td>\n",
       "      <td>786600.000000</td>\n",
       "      <td>786600.000000</td>\n",
       "    </tr>\n",
       "    <tr>\n",
       "      <th>mean</th>\n",
       "      <td>17.588796</td>\n",
       "      <td>9.436810</td>\n",
       "      <td>0.031486</td>\n",
       "      <td>0.091489</td>\n",
       "      <td>0.18118</td>\n",
       "      <td>10.183271</td>\n",
       "      <td>1.628641e+08</td>\n",
       "      <td>47179.750497</td>\n",
       "      <td>1668.509077</td>\n",
       "      <td>29868.529382</td>\n",
       "      <td>4253.246112</td>\n",
       "    </tr>\n",
       "    <tr>\n",
       "      <th>std</th>\n",
       "      <td>3.357192</td>\n",
       "      <td>17.772322</td>\n",
       "      <td>0.174628</td>\n",
       "      <td>0.479558</td>\n",
       "      <td>0.36971</td>\n",
       "      <td>5.618121</td>\n",
       "      <td>8.783082e+07</td>\n",
       "      <td>25904.630565</td>\n",
       "      <td>87.192665</td>\n",
       "      <td>1160.893265</td>\n",
       "      <td>572.855666</td>\n",
       "    </tr>\n",
       "    <tr>\n",
       "      <th>min</th>\n",
       "      <td>0.000000</td>\n",
       "      <td>1.000000</td>\n",
       "      <td>0.000000</td>\n",
       "      <td>0.000000</td>\n",
       "      <td>0.00000</td>\n",
       "      <td>0.000000</td>\n",
       "      <td>7.349800e+04</td>\n",
       "      <td>230.000000</td>\n",
       "      <td>1491.000000</td>\n",
       "      <td>525.000000</td>\n",
       "      <td>212.000000</td>\n",
       "    </tr>\n",
       "    <tr>\n",
       "      <th>25%</th>\n",
       "      <td>16.000000</td>\n",
       "      <td>1.000000</td>\n",
       "      <td>0.000000</td>\n",
       "      <td>0.000000</td>\n",
       "      <td>0.00000</td>\n",
       "      <td>6.648120</td>\n",
       "      <td>8.602350e+07</td>\n",
       "      <td>24799.000000</td>\n",
       "      <td>1619.000000</td>\n",
       "      <td>29463.000000</td>\n",
       "      <td>4228.000000</td>\n",
       "    </tr>\n",
       "    <tr>\n",
       "      <th>50%</th>\n",
       "      <td>18.000000</td>\n",
       "      <td>3.000000</td>\n",
       "      <td>0.000000</td>\n",
       "      <td>0.000000</td>\n",
       "      <td>0.00000</td>\n",
       "      <td>9.027000</td>\n",
       "      <td>1.696135e+08</td>\n",
       "      <td>46467.000000</td>\n",
       "      <td>1619.000000</td>\n",
       "      <td>29815.000000</td>\n",
       "      <td>4324.000000</td>\n",
       "    </tr>\n",
       "    <tr>\n",
       "      <th>75%</th>\n",
       "      <td>20.000000</td>\n",
       "      <td>10.000000</td>\n",
       "      <td>0.000000</td>\n",
       "      <td>0.000000</td>\n",
       "      <td>0.00000</td>\n",
       "      <td>12.213000</td>\n",
       "      <td>2.284335e+08</td>\n",
       "      <td>67886.000000</td>\n",
       "      <td>1779.000000</td>\n",
       "      <td>30231.000000</td>\n",
       "      <td>4356.000000</td>\n",
       "    </tr>\n",
       "    <tr>\n",
       "      <th>max</th>\n",
       "      <td>23.000000</td>\n",
       "      <td>369.000000</td>\n",
       "      <td>1.000000</td>\n",
       "      <td>93.398900</td>\n",
       "      <td>9.86000</td>\n",
       "      <td>1131.030000</td>\n",
       "      <td>3.404535e+08</td>\n",
       "      <td>100205.000000</td>\n",
       "      <td>1811.000000</td>\n",
       "      <td>30423.000000</td>\n",
       "      <td>21124.000000</td>\n",
       "    </tr>\n",
       "  </tbody>\n",
       "</table>\n",
       "</div>"
      ],
      "text/plain": [
       "          order_hour  customer_order_rank      is_failed  voucher_amount  \\\n",
       "count  786600.000000        761833.000000  786600.000000   786600.000000   \n",
       "mean       17.588796             9.436810       0.031486        0.091489   \n",
       "std         3.357192            17.772322       0.174628        0.479558   \n",
       "min         0.000000             1.000000       0.000000        0.000000   \n",
       "25%        16.000000             1.000000       0.000000        0.000000   \n",
       "50%        18.000000             3.000000       0.000000        0.000000   \n",
       "75%        20.000000            10.000000       0.000000        0.000000   \n",
       "max        23.000000           369.000000       1.000000       93.398900   \n",
       "\n",
       "       delivery_fee    amount_paid  restaurant_id        city_id  \\\n",
       "count  786600.00000  786600.000000   7.866000e+05  786600.000000   \n",
       "mean        0.18118      10.183271   1.628641e+08   47179.750497   \n",
       "std         0.36971       5.618121   8.783082e+07   25904.630565   \n",
       "min         0.00000       0.000000   7.349800e+04     230.000000   \n",
       "25%         0.00000       6.648120   8.602350e+07   24799.000000   \n",
       "50%         0.00000       9.027000   1.696135e+08   46467.000000   \n",
       "75%         0.00000      12.213000   2.284335e+08   67886.000000   \n",
       "max         9.86000    1131.030000   3.404535e+08  100205.000000   \n",
       "\n",
       "          payment_id    platform_id  transmission_id  \n",
       "count  786600.000000  786600.000000    786600.000000  \n",
       "mean     1668.509077   29868.529382      4253.246112  \n",
       "std        87.192665    1160.893265       572.855666  \n",
       "min      1491.000000     525.000000       212.000000  \n",
       "25%      1619.000000   29463.000000      4228.000000  \n",
       "50%      1619.000000   29815.000000      4324.000000  \n",
       "75%      1779.000000   30231.000000      4356.000000  \n",
       "max      1811.000000   30423.000000     21124.000000  "
      ]
     },
     "execution_count": 7,
     "metadata": {},
     "output_type": "execute_result"
    }
   ],
   "source": [
    "orders.describe()"
   ]
  },
  {
   "cell_type": "markdown",
   "metadata": {},
   "source": [
    "Based on `describe` the only missing values are in `customer_order_rank`, which makes sense(it's better to check it, but I didn't), they rank wont get higher if `is_failed == 1` "
   ]
  },
  {
   "cell_type": "code",
   "execution_count": 18,
   "metadata": {},
   "outputs": [
    {
     "name": "stdout",
     "output_type": "stream",
     "text": [
      "number of unique customers:  245455\n",
      "all unqiue\n",
      "all the labels are in the training\n"
     ]
    }
   ],
   "source": [
    "print('number of unique customers: ', len(labels.customer_id.unique()))\n",
    "if len(labels) == len(labels.customer_id.unique()):  print('all unqiue')\n",
    "if len(orders[~orders.customer_id.isin(labels.customer_id.unique())]) == 0 : print('all the labels are in the training')"
   ]
  },
  {
   "cell_type": "code",
   "execution_count": null,
   "metadata": {},
   "outputs": [],
   "source": [
    "date"
   ]
  }
 ],
 "metadata": {
  "kernelspec": {
   "display_name": "Python 3",
   "language": "python",
   "name": "python3"
  },
  "language_info": {
   "codemirror_mode": {
    "name": "ipython",
    "version": 3
   },
   "file_extension": ".py",
   "mimetype": "text/x-python",
   "name": "python",
   "nbconvert_exporter": "python",
   "pygments_lexer": "ipython3",
   "version": "3.7.9"
  }
 },
 "nbformat": 4,
 "nbformat_minor": 4
}
