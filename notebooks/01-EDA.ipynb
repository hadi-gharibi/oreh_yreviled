{
 "cells": [
  {
   "cell_type": "code",
   "execution_count": 75,
   "metadata": {},
   "outputs": [],
   "source": [
    "import pandas as pd\n",
    "import seaborn as sns\n",
    "import matplotlib.pyplot as plt\n",
    "import numpy as np"
   ]
  },
  {
   "cell_type": "markdown",
   "metadata": {},
   "source": [
    "## Summery\n",
    "1. Reading files\n",
    "2. Sanity check\n",
    "3. EDA"
   ]
  },
  {
   "cell_type": "code",
   "execution_count": 2,
   "metadata": {},
   "outputs": [
    {
     "name": "stdout",
     "output_type": "stream",
     "text": [
      "/opt/ml/notebooks\n"
     ]
    }
   ],
   "source": [
    "!pwd"
   ]
  },
  {
   "cell_type": "code",
   "execution_count": 43,
   "metadata": {},
   "outputs": [],
   "source": [
    "orders = pd.read_csv('../data/machine_learning_challenge_order_data.csv', parse_dates={'date':['order_date']})\n",
    "labels = pd.read_csv('../data/machine_learning_challenge_labeled_data.csv')"
   ]
  },
  {
   "cell_type": "code",
   "execution_count": 44,
   "metadata": {},
   "outputs": [
    {
     "data": {
      "text/plain": [
       "0    189948\n",
       "1     55507\n",
       "Name: is_returning_customer, dtype: int64"
      ]
     },
     "execution_count": 44,
     "metadata": {},
     "output_type": "execute_result"
    }
   ],
   "source": [
    "#lables are imbalance\n",
    "labels.is_returning_customer.value_counts()"
   ]
  },
  {
   "cell_type": "code",
   "execution_count": 45,
   "metadata": {},
   "outputs": [
    {
     "data": {
      "text/html": [
       "<div>\n",
       "<style scoped>\n",
       "    .dataframe tbody tr th:only-of-type {\n",
       "        vertical-align: middle;\n",
       "    }\n",
       "\n",
       "    .dataframe tbody tr th {\n",
       "        vertical-align: top;\n",
       "    }\n",
       "\n",
       "    .dataframe thead th {\n",
       "        text-align: right;\n",
       "    }\n",
       "</style>\n",
       "<table border=\"1\" class=\"dataframe\">\n",
       "  <thead>\n",
       "    <tr style=\"text-align: right;\">\n",
       "      <th></th>\n",
       "      <th>date</th>\n",
       "      <th>customer_id</th>\n",
       "      <th>order_hour</th>\n",
       "      <th>customer_order_rank</th>\n",
       "      <th>is_failed</th>\n",
       "      <th>voucher_amount</th>\n",
       "      <th>delivery_fee</th>\n",
       "      <th>amount_paid</th>\n",
       "      <th>restaurant_id</th>\n",
       "      <th>city_id</th>\n",
       "      <th>payment_id</th>\n",
       "      <th>platform_id</th>\n",
       "      <th>transmission_id</th>\n",
       "    </tr>\n",
       "  </thead>\n",
       "  <tbody>\n",
       "    <tr>\n",
       "      <th>0</th>\n",
       "      <td>2015-06-20</td>\n",
       "      <td>000097eabfd9</td>\n",
       "      <td>19</td>\n",
       "      <td>1.0</td>\n",
       "      <td>0</td>\n",
       "      <td>0.0</td>\n",
       "      <td>0.000</td>\n",
       "      <td>11.46960</td>\n",
       "      <td>5803498</td>\n",
       "      <td>20326</td>\n",
       "      <td>1779</td>\n",
       "      <td>30231</td>\n",
       "      <td>4356</td>\n",
       "    </tr>\n",
       "    <tr>\n",
       "      <th>1</th>\n",
       "      <td>2016-01-29</td>\n",
       "      <td>0000e2c6d9be</td>\n",
       "      <td>20</td>\n",
       "      <td>1.0</td>\n",
       "      <td>0</td>\n",
       "      <td>0.0</td>\n",
       "      <td>0.000</td>\n",
       "      <td>9.55800</td>\n",
       "      <td>239303498</td>\n",
       "      <td>76547</td>\n",
       "      <td>1619</td>\n",
       "      <td>30359</td>\n",
       "      <td>4356</td>\n",
       "    </tr>\n",
       "    <tr>\n",
       "      <th>2</th>\n",
       "      <td>2017-02-26</td>\n",
       "      <td>000133bb597f</td>\n",
       "      <td>19</td>\n",
       "      <td>1.0</td>\n",
       "      <td>0</td>\n",
       "      <td>0.0</td>\n",
       "      <td>0.493</td>\n",
       "      <td>5.93658</td>\n",
       "      <td>206463498</td>\n",
       "      <td>33833</td>\n",
       "      <td>1619</td>\n",
       "      <td>30359</td>\n",
       "      <td>4324</td>\n",
       "    </tr>\n",
       "    <tr>\n",
       "      <th>3</th>\n",
       "      <td>2017-02-05</td>\n",
       "      <td>00018269939b</td>\n",
       "      <td>17</td>\n",
       "      <td>1.0</td>\n",
       "      <td>0</td>\n",
       "      <td>0.0</td>\n",
       "      <td>0.493</td>\n",
       "      <td>9.82350</td>\n",
       "      <td>36613498</td>\n",
       "      <td>99315</td>\n",
       "      <td>1619</td>\n",
       "      <td>30359</td>\n",
       "      <td>4356</td>\n",
       "    </tr>\n",
       "    <tr>\n",
       "      <th>4</th>\n",
       "      <td>2015-08-04</td>\n",
       "      <td>0001a00468a6</td>\n",
       "      <td>19</td>\n",
       "      <td>1.0</td>\n",
       "      <td>0</td>\n",
       "      <td>0.0</td>\n",
       "      <td>0.493</td>\n",
       "      <td>5.15070</td>\n",
       "      <td>225853498</td>\n",
       "      <td>16456</td>\n",
       "      <td>1619</td>\n",
       "      <td>29463</td>\n",
       "      <td>4356</td>\n",
       "    </tr>\n",
       "  </tbody>\n",
       "</table>\n",
       "</div>"
      ],
      "text/plain": [
       "        date   customer_id  order_hour  customer_order_rank  is_failed  \\\n",
       "0 2015-06-20  000097eabfd9          19                  1.0          0   \n",
       "1 2016-01-29  0000e2c6d9be          20                  1.0          0   \n",
       "2 2017-02-26  000133bb597f          19                  1.0          0   \n",
       "3 2017-02-05  00018269939b          17                  1.0          0   \n",
       "4 2015-08-04  0001a00468a6          19                  1.0          0   \n",
       "\n",
       "   voucher_amount  delivery_fee  amount_paid  restaurant_id  city_id  \\\n",
       "0             0.0         0.000     11.46960        5803498    20326   \n",
       "1             0.0         0.000      9.55800      239303498    76547   \n",
       "2             0.0         0.493      5.93658      206463498    33833   \n",
       "3             0.0         0.493      9.82350       36613498    99315   \n",
       "4             0.0         0.493      5.15070      225853498    16456   \n",
       "\n",
       "   payment_id  platform_id  transmission_id  \n",
       "0        1779        30231             4356  \n",
       "1        1619        30359             4356  \n",
       "2        1619        30359             4324  \n",
       "3        1619        30359             4356  \n",
       "4        1619        29463             4356  "
      ]
     },
     "execution_count": 45,
     "metadata": {},
     "output_type": "execute_result"
    }
   ],
   "source": [
    "orders.head()"
   ]
  },
  {
   "cell_type": "code",
   "execution_count": 46,
   "metadata": {},
   "outputs": [
    {
     "data": {
      "text/plain": [
       "date                   datetime64[ns]\n",
       "customer_id                    object\n",
       "order_hour                      int64\n",
       "customer_order_rank           float64\n",
       "is_failed                       int64\n",
       "voucher_amount                float64\n",
       "delivery_fee                  float64\n",
       "amount_paid                   float64\n",
       "restaurant_id                   int64\n",
       "city_id                         int64\n",
       "payment_id                      int64\n",
       "platform_id                     int64\n",
       "transmission_id                 int64\n",
       "dtype: object"
      ]
     },
     "execution_count": 46,
     "metadata": {},
     "output_type": "execute_result"
    }
   ],
   "source": [
    "orders.dtypes"
   ]
  },
  {
   "cell_type": "code",
   "execution_count": 47,
   "metadata": {},
   "outputs": [
    {
     "data": {
      "text/html": [
       "<div>\n",
       "<style scoped>\n",
       "    .dataframe tbody tr th:only-of-type {\n",
       "        vertical-align: middle;\n",
       "    }\n",
       "\n",
       "    .dataframe tbody tr th {\n",
       "        vertical-align: top;\n",
       "    }\n",
       "\n",
       "    .dataframe thead th {\n",
       "        text-align: right;\n",
       "    }\n",
       "</style>\n",
       "<table border=\"1\" class=\"dataframe\">\n",
       "  <thead>\n",
       "    <tr style=\"text-align: right;\">\n",
       "      <th></th>\n",
       "      <th>order_hour</th>\n",
       "      <th>customer_order_rank</th>\n",
       "      <th>is_failed</th>\n",
       "      <th>voucher_amount</th>\n",
       "      <th>delivery_fee</th>\n",
       "      <th>amount_paid</th>\n",
       "      <th>restaurant_id</th>\n",
       "      <th>city_id</th>\n",
       "      <th>payment_id</th>\n",
       "      <th>platform_id</th>\n",
       "      <th>transmission_id</th>\n",
       "    </tr>\n",
       "  </thead>\n",
       "  <tbody>\n",
       "    <tr>\n",
       "      <th>count</th>\n",
       "      <td>786600.000000</td>\n",
       "      <td>761833.000000</td>\n",
       "      <td>786600.000000</td>\n",
       "      <td>786600.000000</td>\n",
       "      <td>786600.00000</td>\n",
       "      <td>786600.000000</td>\n",
       "      <td>7.866000e+05</td>\n",
       "      <td>786600.000000</td>\n",
       "      <td>786600.000000</td>\n",
       "      <td>786600.000000</td>\n",
       "      <td>786600.000000</td>\n",
       "    </tr>\n",
       "    <tr>\n",
       "      <th>mean</th>\n",
       "      <td>17.588796</td>\n",
       "      <td>9.436810</td>\n",
       "      <td>0.031486</td>\n",
       "      <td>0.091489</td>\n",
       "      <td>0.18118</td>\n",
       "      <td>10.183271</td>\n",
       "      <td>1.628641e+08</td>\n",
       "      <td>47179.750497</td>\n",
       "      <td>1668.509077</td>\n",
       "      <td>29868.529382</td>\n",
       "      <td>4253.246112</td>\n",
       "    </tr>\n",
       "    <tr>\n",
       "      <th>std</th>\n",
       "      <td>3.357192</td>\n",
       "      <td>17.772322</td>\n",
       "      <td>0.174628</td>\n",
       "      <td>0.479558</td>\n",
       "      <td>0.36971</td>\n",
       "      <td>5.618121</td>\n",
       "      <td>8.783082e+07</td>\n",
       "      <td>25904.630565</td>\n",
       "      <td>87.192665</td>\n",
       "      <td>1160.893265</td>\n",
       "      <td>572.855666</td>\n",
       "    </tr>\n",
       "    <tr>\n",
       "      <th>min</th>\n",
       "      <td>0.000000</td>\n",
       "      <td>1.000000</td>\n",
       "      <td>0.000000</td>\n",
       "      <td>0.000000</td>\n",
       "      <td>0.00000</td>\n",
       "      <td>0.000000</td>\n",
       "      <td>7.349800e+04</td>\n",
       "      <td>230.000000</td>\n",
       "      <td>1491.000000</td>\n",
       "      <td>525.000000</td>\n",
       "      <td>212.000000</td>\n",
       "    </tr>\n",
       "    <tr>\n",
       "      <th>25%</th>\n",
       "      <td>16.000000</td>\n",
       "      <td>1.000000</td>\n",
       "      <td>0.000000</td>\n",
       "      <td>0.000000</td>\n",
       "      <td>0.00000</td>\n",
       "      <td>6.648120</td>\n",
       "      <td>8.602350e+07</td>\n",
       "      <td>24799.000000</td>\n",
       "      <td>1619.000000</td>\n",
       "      <td>29463.000000</td>\n",
       "      <td>4228.000000</td>\n",
       "    </tr>\n",
       "    <tr>\n",
       "      <th>50%</th>\n",
       "      <td>18.000000</td>\n",
       "      <td>3.000000</td>\n",
       "      <td>0.000000</td>\n",
       "      <td>0.000000</td>\n",
       "      <td>0.00000</td>\n",
       "      <td>9.027000</td>\n",
       "      <td>1.696135e+08</td>\n",
       "      <td>46467.000000</td>\n",
       "      <td>1619.000000</td>\n",
       "      <td>29815.000000</td>\n",
       "      <td>4324.000000</td>\n",
       "    </tr>\n",
       "    <tr>\n",
       "      <th>75%</th>\n",
       "      <td>20.000000</td>\n",
       "      <td>10.000000</td>\n",
       "      <td>0.000000</td>\n",
       "      <td>0.000000</td>\n",
       "      <td>0.00000</td>\n",
       "      <td>12.213000</td>\n",
       "      <td>2.284335e+08</td>\n",
       "      <td>67886.000000</td>\n",
       "      <td>1779.000000</td>\n",
       "      <td>30231.000000</td>\n",
       "      <td>4356.000000</td>\n",
       "    </tr>\n",
       "    <tr>\n",
       "      <th>max</th>\n",
       "      <td>23.000000</td>\n",
       "      <td>369.000000</td>\n",
       "      <td>1.000000</td>\n",
       "      <td>93.398900</td>\n",
       "      <td>9.86000</td>\n",
       "      <td>1131.030000</td>\n",
       "      <td>3.404535e+08</td>\n",
       "      <td>100205.000000</td>\n",
       "      <td>1811.000000</td>\n",
       "      <td>30423.000000</td>\n",
       "      <td>21124.000000</td>\n",
       "    </tr>\n",
       "  </tbody>\n",
       "</table>\n",
       "</div>"
      ],
      "text/plain": [
       "          order_hour  customer_order_rank      is_failed  voucher_amount  \\\n",
       "count  786600.000000        761833.000000  786600.000000   786600.000000   \n",
       "mean       17.588796             9.436810       0.031486        0.091489   \n",
       "std         3.357192            17.772322       0.174628        0.479558   \n",
       "min         0.000000             1.000000       0.000000        0.000000   \n",
       "25%        16.000000             1.000000       0.000000        0.000000   \n",
       "50%        18.000000             3.000000       0.000000        0.000000   \n",
       "75%        20.000000            10.000000       0.000000        0.000000   \n",
       "max        23.000000           369.000000       1.000000       93.398900   \n",
       "\n",
       "       delivery_fee    amount_paid  restaurant_id        city_id  \\\n",
       "count  786600.00000  786600.000000   7.866000e+05  786600.000000   \n",
       "mean        0.18118      10.183271   1.628641e+08   47179.750497   \n",
       "std         0.36971       5.618121   8.783082e+07   25904.630565   \n",
       "min         0.00000       0.000000   7.349800e+04     230.000000   \n",
       "25%         0.00000       6.648120   8.602350e+07   24799.000000   \n",
       "50%         0.00000       9.027000   1.696135e+08   46467.000000   \n",
       "75%         0.00000      12.213000   2.284335e+08   67886.000000   \n",
       "max         9.86000    1131.030000   3.404535e+08  100205.000000   \n",
       "\n",
       "          payment_id    platform_id  transmission_id  \n",
       "count  786600.000000  786600.000000    786600.000000  \n",
       "mean     1668.509077   29868.529382      4253.246112  \n",
       "std        87.192665    1160.893265       572.855666  \n",
       "min      1491.000000     525.000000       212.000000  \n",
       "25%      1619.000000   29463.000000      4228.000000  \n",
       "50%      1619.000000   29815.000000      4324.000000  \n",
       "75%      1779.000000   30231.000000      4356.000000  \n",
       "max      1811.000000   30423.000000     21124.000000  "
      ]
     },
     "execution_count": 47,
     "metadata": {},
     "output_type": "execute_result"
    }
   ],
   "source": [
    "orders.describe()"
   ]
  },
  {
   "cell_type": "markdown",
   "metadata": {},
   "source": [
    "Based on `describe` the only missing values are in `customer_order_rank`, which makes sense(it's better to check it, but I didn't), they rank wont get higher if `is_failed == 1` "
   ]
  },
  {
   "cell_type": "code",
   "execution_count": 48,
   "metadata": {},
   "outputs": [
    {
     "name": "stdout",
     "output_type": "stream",
     "text": [
      "number of unique customers:  245455\n",
      "all unqiue\n",
      "all the labels are in the training\n"
     ]
    }
   ],
   "source": [
    "print('number of unique customers: ', len(labels.customer_id.unique()))\n",
    "if len(labels) == len(labels.customer_id.unique()):  print('all unqiue')\n",
    "if len(orders[~orders.customer_id.isin(labels.customer_id.unique())]) == 0 : print('all the labels are in the training')"
   ]
  },
  {
   "cell_type": "markdown",
   "metadata": {},
   "source": [
    "## EDA"
   ]
  },
  {
   "cell_type": "code",
   "execution_count": 64,
   "metadata": {},
   "outputs": [],
   "source": [
    "data = orders.merge(labels, on='customer_id')"
   ]
  },
  {
   "cell_type": "code",
   "execution_count": 65,
   "metadata": {},
   "outputs": [
    {
     "data": {
      "image/png": "[encoded data removed]",
      "text/plain": [
       "<Figure size 432x288 with 1 Axes>"
      ]
     },
     "metadata": {
      "needs_background": "light"
     },
     "output_type": "display_data"
    },
    {
     "data": {
      "image/png": "[encoded data removed]",
      "text/plain": [
       "<Figure size 432x288 with 1 Axes>"
      ]
     },
     "metadata": {
      "needs_background": "light"
     },
     "output_type": "display_data"
    },
    {
     "data": {
      "image/png": "[encoded data removed]",
      "text/plain": [
       "<Figure size 432x288 with 1 Axes>"
      ]
     },
     "metadata": {
      "needs_background": "light"
     },
     "output_type": "display_data"
    },
    {
     "data": {
      "image/png": "[encoded data removed]",
      "text/plain": [
       "<Figure size 432x288 with 1 Axes>"
      ]
     },
     "metadata": {
      "needs_background": "light"
     },
     "output_type": "display_data"
    },
    {
     "data": {
      "image/png": "[encoded data removed]",
      "text/plain": [
       "<Figure size 432x288 with 1 Axes>"
      ]
     },
     "metadata": {
      "needs_background": "light"
     },
     "output_type": "display_data"
    },
    {
     "data": {
      "image/png": "[encoded data removed]",
      "text/plain": [
       "<Figure size 432x288 with 1 Axes>"
      ]
     },
     "metadata": {
      "needs_background": "light"
     },
     "output_type": "display_data"
    },
    {
     "data": {
      "image/png": "[encoded data removed]",
      "text/plain": [
       "<Figure size 432x288 with 1 Axes>"
      ]
     },
     "metadata": {
      "needs_background": "light"
     },
     "output_type": "display_data"
    }
   ],
   "source": [
    "for col in data.columns:\n",
    "    if 'id' not in col:\n",
    "        data[col].hist(legend=True)\n",
    "        plt.show()"
   ]
  },
  {
   "cell_type": "markdown",
   "metadata": {},
   "source": [
    "### date"
   ]
  },
  {
   "cell_type": "code",
   "execution_count": 66,
   "metadata": {},
   "outputs": [
    {
     "data": {
      "text/plain": [
       "2015    209943\n",
       "2014        22\n",
       "2013        17\n",
       "2012         4\n",
       "Name: date, dtype: int64"
      ]
     },
     "execution_count": 66,
     "metadata": {},
     "output_type": "execute_result"
    }
   ],
   "source": [
    "data[data.date.dt.year < 2016].date.dt.year.value_counts()"
   ]
  },
  {
   "cell_type": "code",
   "execution_count": 67,
   "metadata": {},
   "outputs": [
    {
     "data": {
      "text/plain": [
       "1    30\n",
       "0    13\n",
       "Name: is_returning_customer, dtype: int64"
      ]
     },
     "execution_count": 67,
     "metadata": {},
     "output_type": "execute_result"
    }
   ],
   "source": [
    "data[data.date.dt.year < 2015].is_returning_customer.value_counts()"
   ]
  },
  {
   "cell_type": "code",
   "execution_count": 70,
   "metadata": {},
   "outputs": [],
   "source": [
    "#well, it seems its really import feature!!\n",
    "data['is_lt_2015'] = data.date.dt.year < 2015"
   ]
  },
  {
   "cell_type": "markdown",
   "metadata": {},
   "source": [
    "### voucher_amount"
   ]
  },
  {
   "cell_type": "code",
   "execution_count": 71,
   "metadata": {},
   "outputs": [
    {
     "data": {
      "text/plain": [
       "<AxesSubplot:xlabel='voucher_amount'>"
      ]
     },
     "execution_count": 71,
     "metadata": {},
     "output_type": "execute_result"
    },
    {
     "data": {
      "image/png": "[encoded data removed]",
      "text/plain": [
       "<Figure size 432x288 with 1 Axes>"
      ]
     },
     "metadata": {
      "needs_background": "light"
     },
     "output_type": "display_data"
    }
   ],
   "source": [
    "sns.boxenplot(data=data, x='voucher_amount')"
   ]
  },
  {
   "cell_type": "code",
   "execution_count": 72,
   "metadata": {},
   "outputs": [
    {
     "data": {
      "text/html": [
       "<div>\n",
       "<style scoped>\n",
       "    .dataframe tbody tr th:only-of-type {\n",
       "        vertical-align: middle;\n",
       "    }\n",
       "\n",
       "    .dataframe tbody tr th {\n",
       "        vertical-align: top;\n",
       "    }\n",
       "\n",
       "    .dataframe thead th {\n",
       "        text-align: right;\n",
       "    }\n",
       "</style>\n",
       "<table border=\"1\" class=\"dataframe\">\n",
       "  <thead>\n",
       "    <tr style=\"text-align: right;\">\n",
       "      <th></th>\n",
       "      <th>date</th>\n",
       "      <th>customer_id</th>\n",
       "      <th>order_hour</th>\n",
       "      <th>customer_order_rank</th>\n",
       "      <th>is_failed</th>\n",
       "      <th>voucher_amount</th>\n",
       "      <th>delivery_fee</th>\n",
       "      <th>amount_paid</th>\n",
       "      <th>restaurant_id</th>\n",
       "      <th>city_id</th>\n",
       "      <th>payment_id</th>\n",
       "      <th>platform_id</th>\n",
       "      <th>transmission_id</th>\n",
       "      <th>is_returning_customer</th>\n",
       "      <th>is_lt_2015</th>\n",
       "    </tr>\n",
       "  </thead>\n",
       "  <tbody>\n",
       "    <tr>\n",
       "      <th>47011</th>\n",
       "      <td>2016-11-24</td>\n",
       "      <td>0ec692070062</td>\n",
       "      <td>23</td>\n",
       "      <td>NaN</td>\n",
       "      <td>1</td>\n",
       "      <td>33.39791</td>\n",
       "      <td>0.00000</td>\n",
       "      <td>22.15863</td>\n",
       "      <td>216923498</td>\n",
       "      <td>85845</td>\n",
       "      <td>1779</td>\n",
       "      <td>29463</td>\n",
       "      <td>4228</td>\n",
       "      <td>1</td>\n",
       "      <td>False</td>\n",
       "    </tr>\n",
       "    <tr>\n",
       "      <th>83093</th>\n",
       "      <td>2016-11-24</td>\n",
       "      <td>1a75552677f3</td>\n",
       "      <td>23</td>\n",
       "      <td>NaN</td>\n",
       "      <td>1</td>\n",
       "      <td>93.39890</td>\n",
       "      <td>0.00000</td>\n",
       "      <td>61.96770</td>\n",
       "      <td>292993498</td>\n",
       "      <td>80562</td>\n",
       "      <td>1779</td>\n",
       "      <td>29463</td>\n",
       "      <td>4260</td>\n",
       "      <td>1</td>\n",
       "      <td>False</td>\n",
       "    </tr>\n",
       "    <tr>\n",
       "      <th>126849</th>\n",
       "      <td>2016-11-25</td>\n",
       "      <td>28ca82d58fac</td>\n",
       "      <td>0</td>\n",
       "      <td>3.0</td>\n",
       "      <td>0</td>\n",
       "      <td>23.04960</td>\n",
       "      <td>0.00000</td>\n",
       "      <td>15.29280</td>\n",
       "      <td>232253498</td>\n",
       "      <td>76362</td>\n",
       "      <td>1779</td>\n",
       "      <td>29815</td>\n",
       "      <td>4356</td>\n",
       "      <td>1</td>\n",
       "      <td>False</td>\n",
       "    </tr>\n",
       "    <tr>\n",
       "      <th>140454</th>\n",
       "      <td>2016-11-24</td>\n",
       "      <td>2d13ae337b18</td>\n",
       "      <td>23</td>\n",
       "      <td>5.0</td>\n",
       "      <td>0</td>\n",
       "      <td>37.57565</td>\n",
       "      <td>0.98600</td>\n",
       "      <td>24.93045</td>\n",
       "      <td>45733498</td>\n",
       "      <td>10346</td>\n",
       "      <td>1779</td>\n",
       "      <td>29463</td>\n",
       "      <td>4324</td>\n",
       "      <td>1</td>\n",
       "      <td>False</td>\n",
       "    </tr>\n",
       "    <tr>\n",
       "      <th>253167</th>\n",
       "      <td>2016-11-24</td>\n",
       "      <td>511c9bca0fac</td>\n",
       "      <td>23</td>\n",
       "      <td>1.0</td>\n",
       "      <td>0</td>\n",
       "      <td>29.86844</td>\n",
       "      <td>0.00000</td>\n",
       "      <td>19.81692</td>\n",
       "      <td>177133498</td>\n",
       "      <td>39051</td>\n",
       "      <td>1779</td>\n",
       "      <td>29463</td>\n",
       "      <td>4356</td>\n",
       "      <td>0</td>\n",
       "      <td>False</td>\n",
       "    </tr>\n",
       "    <tr>\n",
       "      <th>280376</th>\n",
       "      <td>2016-11-24</td>\n",
       "      <td>59db2c057727</td>\n",
       "      <td>23</td>\n",
       "      <td>NaN</td>\n",
       "      <td>1</td>\n",
       "      <td>78.02907</td>\n",
       "      <td>0.00000</td>\n",
       "      <td>51.77250</td>\n",
       "      <td>227643498</td>\n",
       "      <td>52293</td>\n",
       "      <td>1779</td>\n",
       "      <td>29751</td>\n",
       "      <td>4324</td>\n",
       "      <td>1</td>\n",
       "      <td>False</td>\n",
       "    </tr>\n",
       "    <tr>\n",
       "      <th>389087</th>\n",
       "      <td>2016-11-24</td>\n",
       "      <td>7d8942f2d1bf</td>\n",
       "      <td>23</td>\n",
       "      <td>5.0</td>\n",
       "      <td>0</td>\n",
       "      <td>26.65110</td>\n",
       "      <td>0.49300</td>\n",
       "      <td>17.68230</td>\n",
       "      <td>184603498</td>\n",
       "      <td>50898</td>\n",
       "      <td>1779</td>\n",
       "      <td>29463</td>\n",
       "      <td>4356</td>\n",
       "      <td>0</td>\n",
       "      <td>False</td>\n",
       "    </tr>\n",
       "    <tr>\n",
       "      <th>389088</th>\n",
       "      <td>2016-11-24</td>\n",
       "      <td>7d8942f2d1bf</td>\n",
       "      <td>23</td>\n",
       "      <td>4.0</td>\n",
       "      <td>0</td>\n",
       "      <td>21.34146</td>\n",
       "      <td>1.70085</td>\n",
       "      <td>14.16177</td>\n",
       "      <td>308723498</td>\n",
       "      <td>50898</td>\n",
       "      <td>1779</td>\n",
       "      <td>29463</td>\n",
       "      <td>4228</td>\n",
       "      <td>0</td>\n",
       "      <td>False</td>\n",
       "    </tr>\n",
       "    <tr>\n",
       "      <th>389560</th>\n",
       "      <td>2016-11-24</td>\n",
       "      <td>7daa45564644</td>\n",
       "      <td>23</td>\n",
       "      <td>NaN</td>\n",
       "      <td>1</td>\n",
       "      <td>24.15406</td>\n",
       "      <td>0.49300</td>\n",
       "      <td>16.02558</td>\n",
       "      <td>184343498</td>\n",
       "      <td>40441</td>\n",
       "      <td>1779</td>\n",
       "      <td>29463</td>\n",
       "      <td>4356</td>\n",
       "      <td>0</td>\n",
       "      <td>False</td>\n",
       "    </tr>\n",
       "    <tr>\n",
       "      <th>396129</th>\n",
       "      <td>2016-11-24</td>\n",
       "      <td>7fd16c1f1ec2</td>\n",
       "      <td>23</td>\n",
       "      <td>NaN</td>\n",
       "      <td>1</td>\n",
       "      <td>27.80358</td>\n",
       "      <td>0.00000</td>\n",
       "      <td>18.44694</td>\n",
       "      <td>226833498</td>\n",
       "      <td>10346</td>\n",
       "      <td>1779</td>\n",
       "      <td>30359</td>\n",
       "      <td>4228</td>\n",
       "      <td>0</td>\n",
       "      <td>False</td>\n",
       "    </tr>\n",
       "    <tr>\n",
       "      <th>456175</th>\n",
       "      <td>2016-11-24</td>\n",
       "      <td>92bb944e29c6</td>\n",
       "      <td>23</td>\n",
       "      <td>1.0</td>\n",
       "      <td>0</td>\n",
       "      <td>33.61400</td>\n",
       "      <td>0.00000</td>\n",
       "      <td>22.30200</td>\n",
       "      <td>316733498</td>\n",
       "      <td>64877</td>\n",
       "      <td>1779</td>\n",
       "      <td>29815</td>\n",
       "      <td>4356</td>\n",
       "      <td>0</td>\n",
       "      <td>False</td>\n",
       "    </tr>\n",
       "    <tr>\n",
       "      <th>535173</th>\n",
       "      <td>2016-11-24</td>\n",
       "      <td>ad1300a60a94</td>\n",
       "      <td>23</td>\n",
       "      <td>1.0</td>\n",
       "      <td>0</td>\n",
       "      <td>61.82575</td>\n",
       "      <td>0.00000</td>\n",
       "      <td>41.01975</td>\n",
       "      <td>122083498</td>\n",
       "      <td>91305</td>\n",
       "      <td>1779</td>\n",
       "      <td>29463</td>\n",
       "      <td>4324</td>\n",
       "      <td>1</td>\n",
       "      <td>False</td>\n",
       "    </tr>\n",
       "    <tr>\n",
       "      <th>578787</th>\n",
       "      <td>2016-11-24</td>\n",
       "      <td>bb8bb0d5d27c</td>\n",
       "      <td>23</td>\n",
       "      <td>2.0</td>\n",
       "      <td>0</td>\n",
       "      <td>24.01000</td>\n",
       "      <td>0.49300</td>\n",
       "      <td>15.93000</td>\n",
       "      <td>286253498</td>\n",
       "      <td>90633</td>\n",
       "      <td>1779</td>\n",
       "      <td>29815</td>\n",
       "      <td>4356</td>\n",
       "      <td>0</td>\n",
       "      <td>False</td>\n",
       "    </tr>\n",
       "    <tr>\n",
       "      <th>596935</th>\n",
       "      <td>2016-11-24</td>\n",
       "      <td>c18e37a0ad49</td>\n",
       "      <td>23</td>\n",
       "      <td>3.0</td>\n",
       "      <td>0</td>\n",
       "      <td>23.28970</td>\n",
       "      <td>0.49300</td>\n",
       "      <td>15.45210</td>\n",
       "      <td>282783498</td>\n",
       "      <td>68390</td>\n",
       "      <td>1779</td>\n",
       "      <td>29463</td>\n",
       "      <td>4356</td>\n",
       "      <td>0</td>\n",
       "      <td>False</td>\n",
       "    </tr>\n",
       "    <tr>\n",
       "      <th>785038</th>\n",
       "      <td>2016-11-24</td>\n",
       "      <td>ff748eb9815d</td>\n",
       "      <td>23</td>\n",
       "      <td>6.0</td>\n",
       "      <td>0</td>\n",
       "      <td>35.05460</td>\n",
       "      <td>0.49300</td>\n",
       "      <td>23.25780</td>\n",
       "      <td>282783498</td>\n",
       "      <td>68390</td>\n",
       "      <td>1779</td>\n",
       "      <td>29815</td>\n",
       "      <td>4356</td>\n",
       "      <td>1</td>\n",
       "      <td>False</td>\n",
       "    </tr>\n",
       "  </tbody>\n",
       "</table>\n",
       "</div>"
      ],
      "text/plain": [
       "             date   customer_id  order_hour  customer_order_rank  is_failed  \\\n",
       "47011  2016-11-24  0ec692070062          23                  NaN          1   \n",
       "83093  2016-11-24  1a75552677f3          23                  NaN          1   \n",
       "126849 2016-11-25  28ca82d58fac           0                  3.0          0   \n",
       "140454 2016-11-24  2d13ae337b18          23                  5.0          0   \n",
       "253167 2016-11-24  511c9bca0fac          23                  1.0          0   \n",
       "280376 2016-11-24  59db2c057727          23                  NaN          1   \n",
       "389087 2016-11-24  7d8942f2d1bf          23                  5.0          0   \n",
       "389088 2016-11-24  7d8942f2d1bf          23                  4.0          0   \n",
       "389560 2016-11-24  7daa45564644          23                  NaN          1   \n",
       "396129 2016-11-24  7fd16c1f1ec2          23                  NaN          1   \n",
       "456175 2016-11-24  92bb944e29c6          23                  1.0          0   \n",
       "535173 2016-11-24  ad1300a60a94          23                  1.0          0   \n",
       "578787 2016-11-24  bb8bb0d5d27c          23                  2.0          0   \n",
       "596935 2016-11-24  c18e37a0ad49          23                  3.0          0   \n",
       "785038 2016-11-24  ff748eb9815d          23                  6.0          0   \n",
       "\n",
       "        voucher_amount  delivery_fee  amount_paid  restaurant_id  city_id  \\\n",
       "47011         33.39791       0.00000     22.15863      216923498    85845   \n",
       "83093         93.39890       0.00000     61.96770      292993498    80562   \n",
       "126849        23.04960       0.00000     15.29280      232253498    76362   \n",
       "140454        37.57565       0.98600     24.93045       45733498    10346   \n",
       "253167        29.86844       0.00000     19.81692      177133498    39051   \n",
       "280376        78.02907       0.00000     51.77250      227643498    52293   \n",
       "389087        26.65110       0.49300     17.68230      184603498    50898   \n",
       "389088        21.34146       1.70085     14.16177      308723498    50898   \n",
       "389560        24.15406       0.49300     16.02558      184343498    40441   \n",
       "396129        27.80358       0.00000     18.44694      226833498    10346   \n",
       "456175        33.61400       0.00000     22.30200      316733498    64877   \n",
       "535173        61.82575       0.00000     41.01975      122083498    91305   \n",
       "578787        24.01000       0.49300     15.93000      286253498    90633   \n",
       "596935        23.28970       0.49300     15.45210      282783498    68390   \n",
       "785038        35.05460       0.49300     23.25780      282783498    68390   \n",
       "\n",
       "        payment_id  platform_id  transmission_id  is_returning_customer  \\\n",
       "47011         1779        29463             4228                      1   \n",
       "83093         1779        29463             4260                      1   \n",
       "126849        1779        29815             4356                      1   \n",
       "140454        1779        29463             4324                      1   \n",
       "253167        1779        29463             4356                      0   \n",
       "280376        1779        29751             4324                      1   \n",
       "389087        1779        29463             4356                      0   \n",
       "389088        1779        29463             4228                      0   \n",
       "389560        1779        29463             4356                      0   \n",
       "396129        1779        30359             4228                      0   \n",
       "456175        1779        29815             4356                      0   \n",
       "535173        1779        29463             4324                      1   \n",
       "578787        1779        29815             4356                      0   \n",
       "596935        1779        29463             4356                      0   \n",
       "785038        1779        29815             4356                      1   \n",
       "\n",
       "        is_lt_2015  \n",
       "47011        False  \n",
       "83093        False  \n",
       "126849       False  \n",
       "140454       False  \n",
       "253167       False  \n",
       "280376       False  \n",
       "389087       False  \n",
       "389088       False  \n",
       "389560       False  \n",
       "396129       False  \n",
       "456175       False  \n",
       "535173       False  \n",
       "578787       False  \n",
       "596935       False  \n",
       "785038       False  "
      ]
     },
     "execution_count": 72,
     "metadata": {},
     "output_type": "execute_result"
    }
   ],
   "source": [
    "data[data.voucher_amount> 20]"
   ]
  },
  {
   "cell_type": "code",
   "execution_count": 97,
   "metadata": {},
   "outputs": [
    {
     "data": {
      "text/plain": [
       "0    8\n",
       "1    7\n",
       "Name: is_returning_customer, dtype: int64"
      ]
     },
     "execution_count": 97,
     "metadata": {},
     "output_type": "execute_result"
    }
   ],
   "source": [
    "data[data.voucher_amount>20].is_returning_customer.value_counts()"
   ]
  },
  {
   "cell_type": "code",
   "execution_count": 100,
   "metadata": {},
   "outputs": [
    {
     "data": {
      "text/plain": [
       "<AxesSubplot:xlabel='voucher_amount', ylabel='Count'>"
      ]
     },
     "execution_count": 100,
     "metadata": {},
     "output_type": "execute_result"
    },
    {
     "data": {
      "image/png": "[encoded data removed]",
      "text/plain": [
       "<Figure size 432x288 with 1 Axes>"
      ]
     },
     "metadata": {
      "needs_background": "light"
     },
     "output_type": "display_data"
    }
   ],
   "source": [
    "sns.histplot(data=data[data.voucher_amount>= 20], x='voucher_amount', hue='is_returning_customer')"
   ]
  },
  {
   "cell_type": "code",
   "execution_count": 106,
   "metadata": {},
   "outputs": [
    {
     "data": {
      "text/plain": [
       "<AxesSubplot:xlabel='voucher_amount', ylabel='Count'>"
      ]
     },
     "execution_count": 106,
     "metadata": {},
     "output_type": "execute_result"
    },
    {
     "data": {
      "image/png": "[encoded data removed]",
      "text/plain": [
       "<Figure size 432x288 with 1 Axes>"
      ]
     },
     "metadata": {
      "needs_background": "light"
     },
     "output_type": "display_data"
    }
   ],
   "source": [
    "sns.histplot(data=data[(data.voucher_amount <= 30) & (data.voucher_amount >= 15)], x='voucher_amount', hue='is_returning_customer')"
   ]
  },
  {
   "cell_type": "code",
   "execution_count": 108,
   "metadata": {},
   "outputs": [
    {
     "data": {
      "text/plain": [
       "0    16\n",
       "1     4\n",
       "Name: is_returning_customer, dtype: int64"
      ]
     },
     "execution_count": 108,
     "metadata": {},
     "output_type": "execute_result"
    }
   ],
   "source": [
    "data[(data.voucher_amount <= 30) & (data.voucher_amount >= 15)].is_returning_customer.value_counts()"
   ]
  },
  {
   "cell_type": "code",
   "execution_count": 113,
   "metadata": {},
   "outputs": [],
   "source": [
    "data['is_voucher_ge30'] = np.where(data.voucher_amount >= 30, 1, 0)\n",
    "data['is_voucher_ge20_le30'] = np.where(((data.voucher_amount >= 15) & (data.voucher_amount <= 30)), 1, 0)\n"
   ]
  },
  {
   "cell_type": "markdown",
   "metadata": {},
   "source": [
    "### delivery_fee"
   ]
  },
  {
   "cell_type": "code",
   "execution_count": 77,
   "metadata": {},
   "outputs": [
    {
     "data": {
      "text/plain": [
       "<AxesSubplot:xlabel='delivery_fee'>"
      ]
     },
     "execution_count": 77,
     "metadata": {},
     "output_type": "execute_result"
    },
    {
     "data": {
      "image/png": "[encoded data removed]",
      "text/plain": [
       "<Figure size 432x288 with 1 Axes>"
      ]
     },
     "metadata": {
      "needs_background": "light"
     },
     "output_type": "display_data"
    }
   ],
   "source": [
    "#delivery_fee\n",
    "sns.boxenplot(data=data, x='delivery_fee')"
   ]
  },
  {
   "cell_type": "code",
   "execution_count": 116,
   "metadata": {},
   "outputs": [
    {
     "data": {
      "text/plain": [
       "0    19\n",
       "1    13\n",
       "Name: is_returning_customer, dtype: int64"
      ]
     },
     "execution_count": 116,
     "metadata": {},
     "output_type": "execute_result"
    }
   ],
   "source": [
    "## is really really rare, but it seems who are paying more than will stay\n",
    "data[data.delivery_fee>= 4.5].is_returning_customer.value_counts()"
   ]
  },
  {
   "cell_type": "code",
   "execution_count": 89,
   "metadata": {},
   "outputs": [
    {
     "data": {
      "text/plain": [
       "<AxesSubplot:xlabel='delivery_fee', ylabel='Count'>"
      ]
     },
     "execution_count": 89,
     "metadata": {},
     "output_type": "execute_result"
    },
    {
     "data": {
      "image/png": "[encoded data removed]",
      "text/plain": [
       "<Figure size 432x288 with 1 Axes>"
      ]
     },
     "metadata": {
      "needs_background": "light"
     },
     "output_type": "display_data"
    }
   ],
   "source": [
    "sns.histplot(data=data[data.delivery_fee>= 3], x='delivery_fee', hue='is_returning_customer')"
   ]
  },
  {
   "cell_type": "code",
   "execution_count": 117,
   "metadata": {},
   "outputs": [],
   "source": [
    "data['is_delivery_fee_ge5'] = np.where(data.delivery_fee >= 5, 1, 0)\n"
   ]
  },
  {
   "cell_type": "code",
   "execution_count": null,
   "metadata": {},
   "outputs": [],
   "source": []
  },
  {
   "cell_type": "code",
   "execution_count": null,
   "metadata": {},
   "outputs": [],
   "source": []
  }
 ],
 "metadata": {
  "kernelspec": {
   "display_name": "Python 3",
   "language": "python",
   "name": "python3"
  },
  "language_info": {
   "codemirror_mode": {
    "name": "ipython",
    "version": 3
   },
   "file_extension": ".py",
   "mimetype": "text/x-python",
   "name": "python",
   "nbconvert_exporter": "python",
   "pygments_lexer": "ipython3",
   "version": "3.7.9"
  }
 },
 "nbformat": 4,
 "nbformat_minor": 4
}
